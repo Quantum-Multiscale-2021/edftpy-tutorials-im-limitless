{
 "cells": [
  {
   "cell_type": "code",
   "execution_count": 1,
   "metadata": {},
   "outputs": [],
   "source": [
    "import numpy as np\n",
    "\n",
    "from dftpy.constants import ENERGY_CONV\n",
    "from edftpy import io\n",
    "from edftpy.functional import LocalPP, KEDF, Hartree, XC\n",
    "from edftpy.optimizer import Optimization\n",
    "from edftpy.evaluator import EmbedEvaluator, TotalEvaluator\n",
    "from edftpy.subsystem.subcell import SubCell, GlobalCell\n",
    "from edftpy.interface import init_graphtopo\n",
    "from edftpy.mpi import MP, sprint\n",
    "from edftpy.engine.driver import DriverKS\n",
    "from edftpy.engine.engine_qe import EngineQE\n",
    "from edftpy.utils.common import Field, Functional, AbsFunctional"
   ]
  },
  {
   "cell_type": "code",
   "execution_count": 2,
   "metadata": {
    "code_folding": []
   },
   "outputs": [],
   "source": [
    "def get_optimizer(cellfile, subkeys, indices):\n",
    "    #-----------------------------------------------------------------------\n",
    "    pplist = {'H' : './H_ONCV_PBE-1.2.upf', 'O' : './O_ONCV_PBE-1.2.upf'}\n",
    "    ecut = 1200*ENERGY_CONV[\"eV\"][\"Hartree\"]\n",
    "    cellsplit = [0.5, 0.5, 0.5]\n",
    "    #-----------------------------------------------------------------------\n",
    "    ions = io.ase_read(cellfile)\n",
    "    graphtopo = get_graphtopo([1,]*len(subkeys), parallel = True)\n",
    "    gsystem = get_gsystem(ions, graphtopo, pplist, ecut)\n",
    "    drivers = []\n",
    "    for i, keysys in enumerate(subkeys):\n",
    "        if graphtopo.isub != i and graphtopo.is_mpi:\n",
    "            driver = None\n",
    "        else :\n",
    "            index = indices[i]\n",
    "            driver = get_driver(keysys, ions, gsystem.grid, pplist, index, cellsplit, graphtopo)\n",
    "        drivers.append(driver)\n",
    "\n",
    "    graphtopo.build_region(grid=gsystem.grid, drivers=drivers)\n",
    "    opt = Optimization(drivers = drivers, gsystem = gsystem, options={'econv': 1E-6*ions.nat})\n",
    "    return opt"
   ]
  },
  {
   "cell_type": "code",
   "execution_count": 3,
   "metadata": {
    "code_folding": [
     0
    ]
   },
   "outputs": [],
   "source": [
    "def get_gsystem(ions, graphtopo, pplist, ecut):\n",
    "    mp_global = MP(comm = graphtopo.comm, parallel = graphtopo.is_mpi, decomposition = graphtopo.decomposition)\n",
    "    gsystem = GlobalCell(ions, ecut = ecut, mp = mp_global, graphtopo = graphtopo)\n",
    "    total_evaluator = get_total_evaluator(ions, gsystem.grid, pplist)\n",
    "    gsystem.total_evaluator = total_evaluator\n",
    "    return gsystem"
   ]
  },
  {
   "cell_type": "code",
   "execution_count": 11,
   "metadata": {
    "code_folding": []
   },
   "outputs": [],
   "source": [
    "def get_driver(prefix, ions, grid, pplist, index, cellsplit, graphtopo):\n",
    "    mp = MP(comm = graphtopo.comm_sub, decomposition = graphtopo.decomposition)\n",
    "    subcell = SubCell(ions, grid, index = index, cellsplit = cellsplit, mp = mp)\n",
    "    subcell.density[:]=-1\n",
    "    #\n",
    "    # This will generate the potentials for the subsystem class\n",
    "    embed_evaluator = get_embed_evaluator(subcell)\n",
    "    #\n",
    "    #\n",
    "    cell_params = {'pseudopotentials' : pplist}\n",
    "    params = {'system' : {'ecutwfc' : 600*ENERGY_CONV[\"eV\"][\"Hartree\"]*2}}\n",
    "    margs= {\n",
    "            'evaluator' : embed_evaluator,\n",
    "            'prefix' : prefix,\n",
    "            'subcell' : subcell,\n",
    "            'cell_params': cell_params,\n",
    "            'params': params,\n",
    "            'exttype' : 3, # 3 XC is embedded, 7 XC is only global\n",
    "            'mixer' : 0.7\n",
    "            }\n",
    "    engine = EngineQE()\n",
    "    driver = DriverKS(engine = engine, **margs)\n",
    "    return driver"
   ]
  },
  {
   "cell_type": "code",
   "execution_count": 12,
   "metadata": {
    "code_folding": [
     0
    ]
   },
   "outputs": [],
   "source": [
    "def get_graphtopo(nprocs, parallel = False):\n",
    "    graphtopo = init_graphtopo(parallel)\n",
    "    graphtopo.distribute_procs(nprocs)\n",
    "    return graphtopo"
   ]
  },
  {
   "cell_type": "code",
   "execution_count": 13,
   "metadata": {
    "code_folding": [
     0
    ]
   },
   "outputs": [],
   "source": [
    "def ext_functional(density,**kwargs):\n",
    "    factor = (3.0 / 10.0) * (5.0 / 3.0) * (3.0 * np.pi ** 2) ** (2.0 / 3.0)\n",
    "    potential = factor * np.cbrt(density* density)\n",
    "    energy=(potential*density).sum()*density.grid.dV*3.0/5.0\n",
    "    obj = Functional(name = 'EXT0', energy=energy, potential=potential)\n",
    "    return obj"
   ]
  },
  {
   "cell_type": "code",
   "execution_count": 14,
   "metadata": {
    "code_folding": [
     0
    ]
   },
   "outputs": [],
   "source": [
    "class ExtFunctional(object):\n",
    "    def __init__(self, vext=None, **kwargs):\n",
    "        self.vext=vext\n",
    "        \n",
    "    def __call__(self, density, **kwargs):\n",
    "        potential=self.vext\n",
    "        energy=(potential*density).sum()*density.grid.dV\n",
    "        obj = Functional(name = 'EXT1', energy=energy, potential=potential)\n",
    "        return obj"
   ]
  },
  {
   "cell_type": "code",
   "execution_count": 15,
   "metadata": {
    "code_folding": [
     0
    ]
   },
   "outputs": [],
   "source": [
    "def get_total_evaluator(ions, grid, pplist):\n",
    "    xc_kwargs = {'xc' : 'PBE'}\n",
    "    ke_kwargs = {'kedf' : 'GGA', 'k_str' : 'revAPBEK'}\n",
    "    pseudo = LocalPP(grid = grid, ions=ions, PP_list=pplist)\n",
    "    hartree = Hartree()\n",
    "    xc = XC(**xc_kwargs)\n",
    "    ke = KEDF(**ke_kwargs)\n",
    "    funcdicts = {'XC' :xc, 'HARTREE' :hartree, 'PSEUDO' :pseudo, 'KE' :ke, 'EXT0': ext_functional}\n",
    "    total_evaluator = TotalEvaluator(**funcdicts)\n",
    "    return total_evaluator"
   ]
  },
  {
   "cell_type": "code",
   "execution_count": 16,
   "metadata": {
    "code_folding": [
     0
    ]
   },
   "outputs": [],
   "source": [
    "def get_embed_evaluator(subcell):\n",
    "    xc_kwargs = {'xc' : 'PBE'}\n",
    "    ke_kwargs = {'kedf' : 'GGA', 'k_str' : 'revAPBEK'}\n",
    "    xc = XC(**xc_kwargs)\n",
    "    ke = KEDF(**ke_kwargs)\n",
    "    # External Potential--------------------------------------------\n",
    "    vext = Field(grid=subcell.grid)\n",
    "    vext[:]= -1E-6\n",
    "    extobj = ExtFunctional(vext)\n",
    "    #---------------------------------------------------------------\n",
    "    emb_funcdicts = {'XC' :xc, 'KE' :ke, 'EXT0': ext_functional, 'EXT1': extobj}\n",
    "    embed_evaluator = EmbedEvaluator(**emb_funcdicts)\n",
    "    return embed_evaluator"
   ]
  },
  {
   "cell_type": "code",
   "execution_count": 17,
   "metadata": {},
   "outputs": [
    {
     "name": "stdout",
     "output_type": "stream",
     "text": [
      "********************************************************************************\n",
      "Parallel version (MPI) on        1 processors\n",
      "              eDFTpy Version : 0.0.post228+g280d5f0\n",
      "               DFTpy Version : 1.0.post274+g17f16f3\n",
      "********************************************************************************\n",
      "GlobalCell grid [72 72 72]\n",
      "setting key: H -> ./H_ONCV_PBE-1.2.upf\n",
      "setting key: O -> ./O_ONCV_PBE-1.2.upf\n"
     ]
    }
   ],
   "source": [
    "# cellfile = 'h2o_2.xyz'\n",
    "# subkeys = ['sub_ks_0', 'sub_ks_1']\n",
    "# indices = [[0, 1, 2], [3, 4, 5]]\n",
    "cellfile = 'h2o_1.xyz'\n",
    "subkeys = ['sub_ks_0']\n",
    "indices = [[0, 1, 2]]\n",
    "opt = get_optimizer(cellfile, subkeys, indices)"
   ]
  },
  {
   "cell_type": "code",
   "execution_count": 18,
   "metadata": {},
   "outputs": [],
   "source": [
    "def print_density(opt=opt):\n",
    "    n=opt.gsystem.density.integral()\n",
    "    if opt.gsystem.graphtopo.comm.rank==0:\n",
    "        print('**Charge of global system: {}'.format(n))"
   ]
  },
  {
   "cell_type": "code",
   "execution_count": 19,
   "metadata": {},
   "outputs": [],
   "source": [
    "def print_density_driver_all(opt=opt):\n",
    "    for isub, driver in enumerate(opt.drivers):\n",
    "        if driver is None: continue\n",
    "        if driver.comm.rank==0:\n",
    "            n=driver.density.integral()\n",
    "            print('****Charge of driver {} is : {}'.format(isub,n))"
   ]
  },
  {
   "cell_type": "code",
   "execution_count": 20,
   "metadata": {},
   "outputs": [],
   "source": [
    "def print_ext_energy(opt=opt, isub=0):\n",
    "    driver=opt.drivers[isub]\n",
    "    if driver is None: return\n",
    "    if driver.comm.rank==0:\n",
    "        energy=ext_functional(driver.density).energy\n",
    "        print('******Ext energy of {} driver : {}'.format(isub,energy))"
   ]
  },
  {
   "cell_type": "code",
   "execution_count": 21,
   "metadata": {},
   "outputs": [
    {
     "name": "stdout",
     "output_type": "stream",
     "text": [
      "Begin optimize\n",
      "Optimization options :\n",
      "{'econv': 3e-06,\n",
      " 'maxiter': 80,\n",
      " 'maxtime': 0,\n",
      " 'ncheck': 2,\n",
      " 'olevel': 2,\n",
      " 'pconv': 3.0000000000000004e-08,\n",
      " 'pconv_sub': array([3.e-08]),\n",
      " 'sdft': 'sdft'}\n",
      "Update density : 8.000000000000002\n",
      "          Step    Energy(a.u.)            dE              dP        dC        Time(s)         \n",
      "**Charge of global system: 8.000000000000002\n",
      "****Charge of driver 0 is : 7.999999999999983\n",
      "******Ext energy of 0 driver : 9.358214438136566\n",
      "**Charge of global system: 8.000000000000002\n",
      "******Ext energy of 0 driver : 8.12298093389729\n",
      "Norm of reidual density : \n",
      "[0.00864656]\n",
      "Energy of reidual density : \n",
      "[0.79065876]\n",
      "----------------------------------------------------------------------------------------------------\n",
      "   Embed: 1       7.284938329672E+00      7.284938E+00    7.91E-01  8.65E-03  9.030418E-01    \n",
      "----------------------------------------------------------------------------------------------------\n",
      "**Charge of global system: 8.000000000000004\n",
      "****Charge of driver 0 is : 8.000000000000021\n",
      "******Ext energy of 0 driver : 13.641551200113833\n",
      "Norm of reidual density : \n",
      "[0.01919708]\n",
      "Energy of reidual density : \n",
      "[2.49549796]\n",
      "----------------------------------------------------------------------------------------------------\n",
      "   Embed: 2       1.128134190038E+00      -6.156804E+00   2.50E+00  1.92E-02  1.645386E+00    \n",
      "----------------------------------------------------------------------------------------------------\n",
      "**Charge of global system: 8.00000000000001\n",
      "******Ext energy of 0 driver : 11.714919218361995\n",
      "Norm of reidual density : \n",
      "[0.00963082]\n",
      "Energy of reidual density : \n",
      "[0.66297472]\n",
      "----------------------------------------------------------------------------------------------------\n",
      "   Embed: 3       6.150568348212E+00      5.022434E+00    6.63E-01  9.63E-03  2.367347E+00    \n",
      "----------------------------------------------------------------------------------------------------\n",
      "**Charge of global system: 8.000000000000009\n",
      "****Charge of driver 0 is : 8.000000000000037\n",
      "******Ext energy of 0 driver : 11.206382304167708\n",
      "Norm of reidual density : \n",
      "[0.00631617]\n",
      "Energy of reidual density : \n",
      "[0.29120467]\n",
      "----------------------------------------------------------------------------------------------------\n",
      "   Embed: 4       8.279320660097E+00      2.128752E+00    2.91E-01  6.32E-03  3.096626E+00    \n",
      "----------------------------------------------------------------------------------------------------\n",
      "**Charge of global system: 8.000000000000034\n",
      "******Ext energy of 0 driver : 10.110468108582262\n",
      "Norm of reidual density : \n",
      "[0.00128384]\n",
      "Energy of reidual density : \n",
      "[0.00605982]\n",
      "----------------------------------------------------------------------------------------------------\n",
      "   Embed: 5       1.139722749953E+01      3.117907E+00    6.06E-03  1.28E-03  3.839284E+00    \n",
      "----------------------------------------------------------------------------------------------------\n",
      "**Charge of global system: 8.000000000000023\n",
      "****Charge of driver 0 is : 8.00000000000001\n",
      "******Ext energy of 0 driver : 10.203510027350838\n",
      "Norm of reidual density : \n",
      "[0.00088136]\n",
      "Energy of reidual density : \n",
      "[0.0047167]\n",
      "----------------------------------------------------------------------------------------------------\n",
      "   Embed: 6       1.143745675583E+01      4.022926E-02    4.72E-03  8.81E-04  4.611305E+00    \n",
      "----------------------------------------------------------------------------------------------------\n",
      "**Charge of global system: 8.00000000000001\n",
      "******Ext energy of 0 driver : 10.05017141961258\n",
      "Norm of reidual density : \n",
      "[0.00020985]\n",
      "Energy of reidual density : \n",
      "[0.00037445]\n",
      "----------------------------------------------------------------------------------------------------\n",
      "   Embed: 7       1.203157865736E+01      5.941219E-01    3.74E-04  2.10E-04  5.327693E+00    \n",
      "----------------------------------------------------------------------------------------------------\n",
      "**Charge of global system: 8.000000000000012\n",
      "****Charge of driver 0 is : 7.999999999999983\n",
      "******Ext energy of 0 driver : 10.0874006237505\n",
      "Norm of reidual density : \n",
      "[2.29913381e-05]\n",
      "Energy of reidual density : \n",
      "[1.64355131e-06]\n",
      "----------------------------------------------------------------------------------------------------\n",
      "   Embed: 8       1.190631751245E+01      -1.252611E-01   1.64E-06  2.30E-05  6.128053E+00    \n",
      "----------------------------------------------------------------------------------------------------\n",
      "**Charge of global system: 7.999999999999987\n",
      "******Ext energy of 0 driver : 10.087475409493758\n",
      "Norm of reidual density : \n",
      "[1.66480804e-05]\n",
      "Energy of reidual density : \n",
      "[1.45945547e-06]\n",
      "----------------------------------------------------------------------------------------------------\n",
      "   Embed: 9       1.191431881599E+01      8.001304E-03    1.46E-06  1.66E-05  6.884188E+00    \n",
      "----------------------------------------------------------------------------------------------------\n",
      "**Charge of global system: 8.000000000000004\n",
      "****Charge of driver 0 is : 7.999999999999985\n",
      "******Ext energy of 0 driver : 10.089576353162068\n",
      "Norm of reidual density : \n",
      "[7.87392618e-06]\n",
      "Energy of reidual density : \n",
      "[1.79716465e-07]\n",
      "----------------------------------------------------------------------------------------------------\n",
      "   Embed: 10      1.190653843857E+01      -7.780377E-03   1.80E-07  7.87E-06  7.629452E+00    \n",
      "----------------------------------------------------------------------------------------------------\n",
      "**Charge of global system: 7.99999999999999\n",
      "******Ext energy of 0 driver : 10.089459658073727\n",
      "Norm of reidual density : \n",
      "[3.48362189e-06]\n",
      "Energy of reidual density : \n",
      "[3.7960037e-08]\n",
      "----------------------------------------------------------------------------------------------------\n",
      "   Embed: 11      1.190586202672E+01      -6.764118E-04   3.80E-08  3.48E-06  8.354927E+00    \n",
      "----------------------------------------------------------------------------------------------------\n",
      "**Charge of global system: 7.99999999999999\n",
      "****Charge of driver 0 is : 7.999999999999994\n",
      "******Ext energy of 0 driver : 10.089150181269892\n",
      "Norm of reidual density : \n",
      "[3.72498903e-07]\n",
      "Energy of reidual density : \n",
      "[2.77873358e-10]\n",
      "#### Subsytem Density Optimization Converged (Potential) In 12 Iterations ####\n",
      "-------------------------------Energy information-------------------------------\n",
      "        EXT0 energy:  2.745390607696178E+02 (eV) =  1.008912543887861E+01 (a.u.)\n",
      "     HARTREE energy:  4.676950240510373E+02 (eV) =  1.718747689877891E+01 (a.u.)\n",
      "          II energy:  7.912533921589039E+01 (eV) =  2.907802884241836E+00 (a.u.)\n",
      "          KE energy:  2.915201241355388E+02 (eV) =  1.071316807202542E+01 (a.u.)\n",
      "      PSEUDO energy: -1.205681397907716E+03 (eV) = -4.430797872154606E+01 (a.u.)\n",
      "          XC energy: -1.141985560562891E+02 (eV) = -4.196719963129623E+00 (a.u.)\n",
      "       SUB_0 energy: -2.575154594095742E+02 (eV) = -9.463519563119196E+00 (a.u.)\n",
      "       TOTAL energy: -4.645158652014952E+02 (eV) = -1.707064495387010E+01 (a.u.)\n",
      "--------------------------------------------------------------------------------\n"
     ]
    }
   ],
   "source": [
    "#\n",
    "# trick to pass functions to an iterator. interval means frequency of execution measured in iterator's steps.\n",
    "#\n",
    "opt.attach(print_density, interval=1)\n",
    "opt.attach(print_density_driver_all, interval=2)\n",
    "opt.attach(print_ext_energy, interval=1)\n",
    "opt.optimize()"
   ]
  },
  {
   "cell_type": "code",
   "execution_count": null,
   "metadata": {},
   "outputs": [],
   "source": []
  }
 ],
 "metadata": {
  "kernelspec": {
   "display_name": "Python 3",
   "language": "python",
   "name": "python3"
  },
  "language_info": {
   "codemirror_mode": {
    "name": "ipython",
    "version": 3
   },
   "file_extension": ".py",
   "mimetype": "text/x-python",
   "name": "python",
   "nbconvert_exporter": "python",
   "pygments_lexer": "ipython3",
   "version": "3.6.9"
  },
  "varInspector": {
   "cols": {
    "lenName": 16,
    "lenType": 16,
    "lenVar": 40
   },
   "kernels_config": {
    "python": {
     "delete_cmd_postfix": "",
     "delete_cmd_prefix": "del ",
     "library": "var_list.py",
     "varRefreshCmd": "print(var_dic_list())"
    },
    "r": {
     "delete_cmd_postfix": ") ",
     "delete_cmd_prefix": "rm(",
     "library": "var_list.r",
     "varRefreshCmd": "cat(var_dic_list()) "
    }
   },
   "types_to_exclude": [
    "module",
    "function",
    "builtin_function_or_method",
    "instance",
    "_Feature"
   ],
   "window_display": false
  }
 },
 "nbformat": 4,
 "nbformat_minor": 4
}
