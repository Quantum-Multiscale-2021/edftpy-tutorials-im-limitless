{
 "cells": [
  {
   "cell_type": "code",
   "execution_count": 1,
   "metadata": {},
   "outputs": [],
   "source": [
    "import numpy as np\n",
    "\n",
    "from dftpy.constants import ENERGY_CONV\n",
    "from edftpy import io\n",
    "from edftpy.functional import LocalPP, KEDF, Hartree, XC\n",
    "from edftpy.optimizer import Optimization\n",
    "from edftpy.evaluator import EmbedEvaluator, TotalEvaluator\n",
    "from edftpy.subsystem.subcell import SubCell, GlobalCell\n",
    "from edftpy.interface import init_graphtopo\n",
    "from edftpy.mpi import MP, sprint\n",
    "from edftpy.engine.driver import DriverKS\n",
    "from edftpy.engine.engine_qe import EngineQE\n",
    "from edftpy.utils.common import Field, Functional, AbsFunctional"
   ]
  },
  {
   "cell_type": "code",
   "execution_count": 2,
   "metadata": {
    "code_folding": []
   },
   "outputs": [],
   "source": [
    "def get_optimizer(cellfile, subkeys, indices):\n",
    "    #-----------------------------------------------------------------------\n",
    "    pplist = {'H' : './H_ONCV_PBE-1.2.upf', 'O' : './O_ONCV_PBE-1.2.upf'}\n",
    "    ecut = 1200*ENERGY_CONV[\"eV\"][\"Hartree\"]\n",
    "    cellsplit = [0.5, 0.5, 0.5]\n",
    "    #-----------------------------------------------------------------------\n",
    "    ions = io.ase_read(cellfile)\n",
    "    graphtopo = get_graphtopo([1,]*len(subkeys), parallel = True)\n",
    "    gsystem = get_gsystem(ions, graphtopo, pplist, ecut)\n",
    "    drivers = []\n",
    "    for i, keysys in enumerate(subkeys):\n",
    "        if graphtopo.isub != i and graphtopo.is_mpi:\n",
    "            driver = None\n",
    "        else :\n",
    "            index = indices[i]\n",
    "            driver = get_driver(keysys, ions, gsystem.grid, pplist, index, cellsplit, graphtopo)\n",
    "        drivers.append(driver)\n",
    "\n",
    "    graphtopo.build_region(grid=gsystem.grid, drivers=drivers)\n",
    "    opt = Optimization(drivers = drivers, gsystem = gsystem, options={'econv': 1E-6*ions.nat})\n",
    "    return opt"
   ]
  },
  {
   "cell_type": "code",
   "execution_count": 3,
   "metadata": {
    "code_folding": [
     0
    ]
   },
   "outputs": [],
   "source": [
    "def get_gsystem(ions, graphtopo, pplist, ecut):\n",
    "    mp_global = MP(comm = graphtopo.comm, parallel = graphtopo.is_mpi, decomposition = graphtopo.decomposition)\n",
    "    gsystem = GlobalCell(ions, ecut = ecut, mp = mp_global, graphtopo = graphtopo)\n",
    "    total_evaluator = get_total_evaluator(ions, gsystem.grid, pplist)\n",
    "    gsystem.total_evaluator = total_evaluator\n",
    "    return gsystem"
   ]
  },
  {
   "cell_type": "code",
   "execution_count": 4,
   "metadata": {
    "code_folding": [
     0
    ]
   },
   "outputs": [],
   "source": [
    "def get_graphtopo(nprocs, parallel = False):\n",
    "    graphtopo = init_graphtopo(parallel)\n",
    "    graphtopo.distribute_procs(nprocs)\n",
    "    return graphtopo"
   ]
  },
  {
   "cell_type": "code",
   "execution_count": 5,
   "metadata": {
    "code_folding": [
     0
    ]
   },
   "outputs": [],
   "source": [
    "def get_total_evaluator(ions, grid, pplist):\n",
    "    xc_kwargs = {'xc' : 'PBE'}\n",
    "    ke_kwargs = {'kedf' : 'GGA', 'k_str' : 'revAPBEK'}\n",
    "    pseudo = LocalPP(grid = grid, ions=ions, PP_list=pplist)\n",
    "    hartree = Hartree()\n",
    "    xc = XC(**xc_kwargs)\n",
    "    ke = KEDF(**ke_kwargs)\n",
    "    funcdicts = {'XC' :xc, 'HARTREE' :hartree, 'PSEUDO' :pseudo, 'KE' :ke}\n",
    "    total_evaluator = TotalEvaluator(**funcdicts)\n",
    "    return total_evaluator"
   ]
  },
  {
   "cell_type": "code",
   "execution_count": 6,
   "metadata": {
    "code_folding": [
     0
    ]
   },
   "outputs": [],
   "source": [
    "def get_embed_evaluator(subcell):\n",
    "    xc_kwargs = {'xc' : 'PBE'}\n",
    "    ke_kwargs = {'kedf' : 'GGA', 'k_str' : 'revAPBEK'}\n",
    "    xc = XC(**xc_kwargs)\n",
    "    ke = KEDF(**ke_kwargs)\n",
    "    #---------------------------------------------------------------\n",
    "    emb_funcdicts = {'XC' :xc, 'KE' :ke}\n",
    "    embed_evaluator = EmbedEvaluator(**emb_funcdicts)\n",
    "    return embed_evaluator"
   ]
  },
  {
   "cell_type": "code",
   "execution_count": 7,
   "metadata": {
    "code_folding": []
   },
   "outputs": [],
   "source": [
    "def get_driver(prefix, ions, grid, pplist, index, cellsplit, graphtopo):\n",
    "    mp = MP(comm = graphtopo.comm_sub, decomposition = graphtopo.decomposition)\n",
    "    subcell = SubCell(ions, grid, index = index, cellsplit = cellsplit, mp = mp)\n",
    "    # given a negative value which means will get from driver\n",
    "    subcell.density[:] = -1.0\n",
    "    embed_evaluator = get_embed_evaluator(subcell)\n",
    "    cell_params = {'pseudopotentials' : pplist}\n",
    "    params = {'system' : {'ecutwfc' : 600*ENERGY_CONV[\"eV\"][\"Hartree\"]*2}}\n",
    "    margs= {\n",
    "            'evaluator' : embed_evaluator,\n",
    "            'prefix' : prefix,\n",
    "            'subcell' : subcell,\n",
    "            'cell_params': cell_params,\n",
    "            'params': params,\n",
    "            'exttype' : 3, # 3 is XC embedded, 7 is without XC\n",
    "            'mixer' : 0.7\n",
    "            }\n",
    "    engine = EngineQE()\n",
    "    driver = DriverKS(engine = engine, **margs)\n",
    "    return driver"
   ]
  },
  {
   "cell_type": "code",
   "execution_count": 8,
   "metadata": {},
   "outputs": [
    {
     "name": "stdout",
     "output_type": "stream",
     "text": [
      "********************************************************************************\n",
      "Parallel version (MPI) on        1 processors\n",
      "              eDFTpy Version : 0.0.post228+g280d5f0\n",
      "               DFTpy Version : 1.0.post274+g17f16f3\n",
      "********************************************************************************\n",
      "GlobalCell grid [72 72 72]\n",
      "setting key: H -> ./H_ONCV_PBE-1.2.upf\n",
      "setting key: O -> ./O_ONCV_PBE-1.2.upf\n"
     ]
    }
   ],
   "source": [
    "# cellfile = 'h2o_2.xyz'\n",
    "# subkeys = ['sub_ks_0', 'sub_ks_1']\n",
    "# indices = [[0, 1, 2], [3, 4, 5]]\n",
    "cellfile = 'h2o_1.xyz'\n",
    "subkeys = ['sub_ks_0']\n",
    "indices = [[0, 1, 2]]\n",
    "opt = get_optimizer(cellfile, subkeys, indices)"
   ]
  },
  {
   "cell_type": "code",
   "execution_count": 9,
   "metadata": {},
   "outputs": [
    {
     "name": "stdout",
     "output_type": "stream",
     "text": [
      "Begin optimize\n",
      "Optimization options :\n",
      "{'econv': 3e-06,\n",
      " 'maxiter': 80,\n",
      " 'maxtime': 0,\n",
      " 'ncheck': 2,\n",
      " 'olevel': 2,\n",
      " 'pconv': 3.0000000000000004e-08,\n",
      " 'pconv_sub': array([3.e-08]),\n",
      " 'sdft': 'sdft'}\n",
      "Update density : 8.000000000000002\n",
      "          Step    Energy(a.u.)            dE              dP        dC        Time(s)         \n",
      "Norm of reidual density : \n",
      "[0.00864656]\n",
      "Energy of reidual density : \n",
      "[0.79065876]\n",
      "----------------------------------------------------------------------------------------------------\n",
      "   Embed: 1       -6.829569089792E+00     -6.829569E+00   7.91E-01  8.65E-03  9.326077E-01    \n",
      "----------------------------------------------------------------------------------------------------\n",
      "Norm of reidual density : \n",
      "[0.01919708]\n",
      "Energy of reidual density : \n",
      "[2.49549796]\n",
      "----------------------------------------------------------------------------------------------------\n",
      "   Embed: 2       -1.349536273918E+01     -6.665794E+00   2.50E+00  1.92E-02  1.708033E+00    \n",
      "----------------------------------------------------------------------------------------------------\n",
      "Norm of reidual density : \n",
      "[0.00963082]\n",
      "Energy of reidual density : \n",
      "[0.66297471]\n",
      "----------------------------------------------------------------------------------------------------\n",
      "   Embed: 3       -9.576341952525E+00     3.919021E+00    6.63E-01  9.63E-03  2.452334E+00    \n",
      "----------------------------------------------------------------------------------------------------\n",
      "Norm of reidual density : \n",
      "[0.00631617]\n",
      "Energy of reidual density : \n",
      "[0.29120467]\n",
      "----------------------------------------------------------------------------------------------------\n",
      "   Embed: 4       -8.121395313727E+00     1.454947E+00    2.91E-01  6.32E-03  3.163131E+00    \n",
      "----------------------------------------------------------------------------------------------------\n",
      "Norm of reidual density : \n",
      "[0.00128384]\n",
      "Energy of reidual density : \n",
      "[0.00605982]\n",
      "----------------------------------------------------------------------------------------------------\n",
      "   Embed: 5       -5.329082967737E+00     2.792312E+00    6.06E-03  1.28E-03  3.902156E+00    \n",
      "----------------------------------------------------------------------------------------------------\n",
      "Norm of reidual density : \n",
      "[0.00088136]\n",
      "Energy of reidual density : \n",
      "[0.0047167]\n",
      "----------------------------------------------------------------------------------------------------\n",
      "   Embed: 6       -5.350826616463E+00     -2.174365E-02   4.72E-03  8.81E-04  4.686936E+00    \n",
      "----------------------------------------------------------------------------------------------------\n",
      "Norm of reidual density : \n",
      "[0.00020985]\n",
      "Energy of reidual density : \n",
      "[0.00037445]\n",
      "----------------------------------------------------------------------------------------------------\n",
      "   Embed: 7       -4.799470854987E+00     5.513558E-01    3.74E-04  2.10E-04  5.415348E+00    \n",
      "----------------------------------------------------------------------------------------------------\n",
      "Norm of reidual density : \n",
      "[2.2991324e-05]\n",
      "Energy of reidual density : \n",
      "[1.64357484e-06]\n",
      "----------------------------------------------------------------------------------------------------\n",
      "   Embed: 8       -4.910258190709E+00     -1.107873E-01   1.64E-06  2.30E-05  6.142629E+00    \n",
      "----------------------------------------------------------------------------------------------------\n",
      "Norm of reidual density : \n",
      "[1.66481595e-05]\n",
      "Energy of reidual density : \n",
      "[1.45946828e-06]\n",
      "----------------------------------------------------------------------------------------------------\n",
      "   Embed: 9       -4.901903286090E+00     8.354905E-03    1.46E-06  1.66E-05  6.863041E+00    \n",
      "----------------------------------------------------------------------------------------------------\n",
      "Norm of reidual density : \n",
      "[7.8739556e-06]\n",
      "Energy of reidual density : \n",
      "[1.79717668e-07]\n",
      "----------------------------------------------------------------------------------------------------\n",
      "   Embed: 10      -4.908712783553E+00     -6.809497E-03   1.80E-07  7.87E-06  7.577387E+00    \n",
      "----------------------------------------------------------------------------------------------------\n",
      "Norm of reidual density : \n",
      "[3.483624e-06]\n",
      "Energy of reidual density : \n",
      "[3.79600948e-08]\n",
      "----------------------------------------------------------------------------------------------------\n",
      "   Embed: 11      -4.909381581873E+00     -6.687983E-04   3.80E-08  3.48E-06  8.280649E+00    \n",
      "----------------------------------------------------------------------------------------------------\n",
      "Norm of reidual density : \n",
      "[3.7250459e-07]\n",
      "Energy of reidual density : \n",
      "[2.77882834e-10]\n",
      "#### Subsytem Density Optimization Converged (Potential) In 12 Iterations ####\n",
      "-------------------------------Energy information-------------------------------\n",
      "     HARTREE energy:  4.676950240473288E+02 (eV) =  1.718747689864263E+01 (a.u.)\n",
      "          II energy:  7.912533921589039E+01 (eV) =  2.907802884241836E+00 (a.u.)\n",
      "          KE energy:  2.915201241313117E+02 (eV) =  1.071316807187008E+01 (a.u.)\n",
      "      PSEUDO energy: -1.205681397901794E+03 (eV) = -4.430797872132841E+01 (a.u.)\n",
      "          XC energy: -1.141985560557970E+02 (eV) = -4.196719963111537E+00 (a.u.)\n",
      "       SUB_0 energy:  1.702338369829543E+01 (eV) =  6.255978768368795E-01 (a.u.)\n",
      "       TOTAL energy: -4.645160828647642E+02 (eV) = -1.707065295284853E+01 (a.u.)\n",
      "--------------------------------------------------------------------------------\n"
     ]
    }
   ],
   "source": [
    "opt.optimize()"
   ]
  },
  {
   "cell_type": "code",
   "execution_count": null,
   "metadata": {},
   "outputs": [],
   "source": []
  }
 ],
 "metadata": {
  "kernelspec": {
   "display_name": "Python 3",
   "language": "python",
   "name": "python3"
  },
  "language_info": {
   "codemirror_mode": {
    "name": "ipython",
    "version": 3
   },
   "file_extension": ".py",
   "mimetype": "text/x-python",
   "name": "python",
   "nbconvert_exporter": "python",
   "pygments_lexer": "ipython3",
   "version": "3.6.9"
  },
  "varInspector": {
   "cols": {
    "lenName": 16,
    "lenType": 16,
    "lenVar": 40
   },
   "kernels_config": {
    "python": {
     "delete_cmd_postfix": "",
     "delete_cmd_prefix": "del ",
     "library": "var_list.py",
     "varRefreshCmd": "print(var_dic_list())"
    },
    "r": {
     "delete_cmd_postfix": ") ",
     "delete_cmd_prefix": "rm(",
     "library": "var_list.r",
     "varRefreshCmd": "cat(var_dic_list()) "
    }
   },
   "types_to_exclude": [
    "module",
    "function",
    "builtin_function_or_method",
    "instance",
    "_Feature"
   ],
   "window_display": false
  }
 },
 "nbformat": 4,
 "nbformat_minor": 4
}
